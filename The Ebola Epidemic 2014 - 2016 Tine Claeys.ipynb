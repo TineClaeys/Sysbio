{
 "cells": [
  {
   "attachments": {},
   "cell_type": "markdown",
   "metadata": {},
   "source": [
    "# The Ebola Epidemic 2014-2016: a networking point of view\n",
    "In 2014 an increase in Ebola hemorrhagic fever was noticed in Guinea. This was the result of the spread of the Zaire Ebola virus transmitted from wildlife to humans with the highest fatality-rate of all Ebola virus strains. Human to human transmission resulted in a fast transmission and the World Health Organisation (WHO) declared an official outbreak at 49 confirmed cases and 29 deaths. But this was just the beginning.\n",
    "In 2,5 years the epidemic resulted in 28 642 cases and 11 319 deaths. It spread to 10 different countries in West-Africa, Europe and the USA and was labelled a Public Health Emergency. It was not until June 2016 that Guinea, the source of the infection was declared Ebola free.\n",
    "This notebook describes the methods used to get to the final poster result. Data finding, data preparation till it was ready to visualise in cytoscape.\n",
    "\n",
    "Data was extracted from https://data.humdata.org/dataset/ebola-cases-2014 which was based on the data from the WHO."
   ]
  },
  {
   "cell_type": "code",
   "execution_count": null,
   "metadata": {},
   "outputs": [],
   "source": [
    "import pandas as pd\n",
    "import numpy as np\n",
    "import datetime\n",
    "%matplotlib inline\n",
    "from matplotlib import pyplot as plt\n",
    "import seaborn as sns\n",
    "df = pd.read_csv('EBOLA01.csv')"
   ]
  },
  {
   "cell_type": "markdown",
   "metadata": {},
   "source": [
    "Data was imported and studied. It consists of an indicator showing the if it are cases or deaths. The corresponding country, date and the number of cases/deaths"
   ]
  },
  {
   "cell_type": "code",
   "execution_count": null,
   "metadata": {
    "scrolled": true
   },
   "outputs": [],
   "source": [
    "df.loc[4961]\n",
    "df.tail()"
   ]
  },
  {
   "cell_type": "markdown",
   "metadata": {},
   "source": [
    "Column names were assigned"
   ]
  },
  {
   "cell_type": "code",
   "execution_count": null,
   "metadata": {
    "scrolled": true
   },
   "outputs": [],
   "source": [
    "df.columns = ['default']\n",
    "df.tail()"
   ]
  },
  {
   "cell_type": "code",
   "execution_count": null,
   "metadata": {},
   "outputs": [],
   "source": [
    "df = pd.DataFrame(df.default.str.split(';',3).tolist(), columns = ['Ind','Country','Date', 'Value'])"
   ]
  },
  {
   "cell_type": "code",
   "execution_count": null,
   "metadata": {},
   "outputs": [],
   "source": [
    "df.tail()"
   ]
  },
  {
   "cell_type": "code",
   "execution_count": null,
   "metadata": {},
   "outputs": [],
   "source": [
    "df['Date'] =  pd.to_datetime(df['Date'], format='%d/%m/%Y')\n",
    "df['Value'] = df['Value'].astype(int)"
   ]
  },
  {
   "cell_type": "markdown",
   "metadata": {},
   "source": [
    "Split dataset in deaths and cases into seperate dataframes."
   ]
  },
  {
   "cell_type": "code",
   "execution_count": null,
   "metadata": {},
   "outputs": [],
   "source": [
    "deaths = pd.DataFrame\n",
    "cases = pd.DataFrame"
   ]
  },
  {
   "cell_type": "code",
   "execution_count": null,
   "metadata": {},
   "outputs": [],
   "source": [
    "deaths = df.loc[df.Ind == 'Deaths']\n",
    "cases = df.loc[df.Ind == 'Cases']\n",
    "cases.columns = ['Ind', 'Country', 'Date', 'Number of cases']\n",
    "deaths.columns = ['Ind', 'Country', 'Date', 'Number of deaths']\n",
    "cases = cases.reset_index()\n",
    "deaths = deaths.reset_index()"
   ]
  },
  {
   "cell_type": "code",
   "execution_count": null,
   "metadata": {},
   "outputs": [],
   "source": [
    "print(cases.tail())\n",
    "print(deaths.tail())"
   ]
  },
  {
   "cell_type": "code",
   "execution_count": null,
   "metadata": {},
   "outputs": [],
   "source": [
    "cases = cases.drop('index', axis=1)\n",
    "cases = cases.drop('Ind', axis=1)\n",
    "deaths = deaths.drop('index', axis=1)\n",
    "deaths = deaths.drop('Ind', axis=1)"
   ]
  },
  {
   "cell_type": "markdown",
   "metadata": {},
   "source": [
    "Now the case fatality rate can be calculated by merging the dataframes until there is a column of cases and a column of deaths for each country on each corresponding date. "
   ]
  },
  {
   "cell_type": "code",
   "execution_count": null,
   "metadata": {
    "scrolled": true
   },
   "outputs": [],
   "source": [
    "cfr = cases.merge(deaths, how = 'inner', on = ['Country', 'Date'])\n",
    "cfr.tail()"
   ]
  },
  {
   "cell_type": "code",
   "execution_count": null,
   "metadata": {},
   "outputs": [],
   "source": [
    "cfr['CFR'] = cfr['Number of deaths'] / cfr['Number of cases'] * 100"
   ]
  },
  {
   "cell_type": "code",
   "execution_count": null,
   "metadata": {},
   "outputs": [],
   "source": [
    "cfr = cfr.round(3)\n",
    "cfr.tail()"
   ]
  },
  {
   "cell_type": "markdown",
   "metadata": {},
   "source": [
    "To be able to use the countries on a world map, the country name was replaced by the ISO-code"
   ]
  },
  {
   "cell_type": "code",
   "execution_count": null,
   "metadata": {},
   "outputs": [],
   "source": [
    "#iso code landen:\n",
    "cfr.Country.unique()"
   ]
  },
  {
   "cell_type": "code",
   "execution_count": null,
   "metadata": {},
   "outputs": [],
   "source": [
    "# make dictionary of country and ISO code\n",
    "d = {'Guinea': 'GNQ' , 'Liberia': 'LBR' , 'Nigeria': 'NGA' , 'Sierra Leone': 'SLE' , 'Senegal': 'SEN' ,\n",
    "       'United States of America': 'USA' , 'Spain': 'ESP' , 'Mali': 'MLI' , 'United Kingdom': 'GBR',\n",
    "       'Italy': 'ITA' , 'Liberia 2': 'LBR', 'Guinea 2': 'GNQ'}"
   ]
  },
  {
   "cell_type": "code",
   "execution_count": null,
   "metadata": {},
   "outputs": [],
   "source": [
    "cfr['Country'] = cfr['Country'].replace(d)"
   ]
  },
  {
   "cell_type": "markdown",
   "metadata": {},
   "source": [
    "Now the large dataframe was split into data concerning 2014, 2015 and 2016 separately. "
   ]
  },
  {
   "cell_type": "code",
   "execution_count": null,
   "metadata": {},
   "outputs": [],
   "source": [
    "split_date1 = pd.datetime(2015,1,1)\n",
    "split_date2 = pd.datetime(2016,1,1)\n",
    "\n",
    "data_2014 = cfr[(pd.to_datetime(cfr['Date']) < split_date1)]\n",
    "data_2015 = cfr[(pd.to_datetime(cfr['Date']) > split_date1)]\n",
    "data_2015 = data_2015[(pd.to_datetime(data_2015['Date']) < split_date2)]\n",
    "data_2016 = cfr[(pd.to_datetime(cfr['Date']) >= split_date2)]"
   ]
  },
  {
   "cell_type": "code",
   "execution_count": null,
   "metadata": {
    "scrolled": true
   },
   "outputs": [],
   "source": [
    "data_2014.head(75)"
   ]
  },
  {
   "cell_type": "code",
   "execution_count": null,
   "metadata": {},
   "outputs": [],
   "source": [
    "data_2014 = data_2014.reset_index()\n",
    "data_2015 = data_2015.reset_index()\n",
    "data_2016 = data_2016.reset_index()"
   ]
  },
  {
   "cell_type": "code",
   "execution_count": null,
   "metadata": {},
   "outputs": [],
   "source": [
    "data_2014 = data_2014.drop('index', axis=1)\n",
    "data_2015 = data_2015.drop('index', axis=1)\n",
    "data_2016 = data_2016.drop('index', axis=1)"
   ]
  },
  {
   "cell_type": "code",
   "execution_count": null,
   "metadata": {},
   "outputs": [],
   "source": [
    "data_2014.to_csv(\"data_2014.csv\")\n",
    "data_2015.to_csv(\"data_2015.csv\")\n",
    "data_2016.to_csv(\"data_2016.csv\")"
   ]
  },
  {
   "cell_type": "markdown",
   "metadata": {},
   "source": [
    "To achieve a world map with all the cases and CFR over days, plotly express was used. \n",
    "In order to visualise the large ànd small numbers, the log of the CFR was taken. "
   ]
  },
  {
   "cell_type": "code",
   "execution_count": null,
   "metadata": {},
   "outputs": [],
   "source": [
    "import plotly.express as px"
   ]
  },
  {
   "cell_type": "code",
   "execution_count": null,
   "metadata": {},
   "outputs": [],
   "source": [
    "data_2014[\"Number of cases log\"] = data_2014[\"Number of cases\"].apply(np.log)\n",
    "data_2015[\"Number of cases log\"] = data_2015[\"Number of cases\"].apply(np.log)\n",
    "data_2016[\"Number of cases log\"] = data_2016[\"Number of cases\"].apply(np.log)"
   ]
  },
  {
   "cell_type": "code",
   "execution_count": null,
   "metadata": {},
   "outputs": [],
   "source": [
    "data_2014.head()"
   ]
  },
  {
   "cell_type": "code",
   "execution_count": null,
   "metadata": {
    "scrolled": true
   },
   "outputs": [],
   "source": [
    "fig = px.scatter_geo(data_2014, locations=\"Country\",animation_frame=\"Date\", size = 'Number of cases log', color = 'CFR', projection=\"natural earth\")\n",
    "fig.show()"
   ]
  },
  {
   "cell_type": "code",
   "execution_count": null,
   "metadata": {},
   "outputs": [],
   "source": [
    "fig = px.scatter_geo(data_2015, locations=\"Country\",animation_frame=\"Date\", size = 'Number of cases log', color = 'CFR', projection=\"natural earth\")\n",
    "fig.show()"
   ]
  },
  {
   "cell_type": "code",
   "execution_count": null,
   "metadata": {},
   "outputs": [],
   "source": [
    "fig = px.scatter_geo(data_2016, locations=\"Country\",animation_frame=\"Date\", size = 'Number of cases log', color = 'CFR', projection=\"natural earth\")\n",
    "fig.show()"
   ]
  },
  {
   "cell_type": "markdown",
   "metadata": {},
   "source": [
    "Because it is not possible to show an interactive view of the growing of the cases and CFR over time on a 2D poster, the dataframe was made with the total number of cases and deaths per country and the respective mean of the CFR.\n"
   ]
  },
  {
   "cell_type": "code",
   "execution_count": null,
   "metadata": {},
   "outputs": [],
   "source": [
    "data_2014 = data_2014.groupby(\"Country\").mean()\n",
    "data_2015 = data_2015.groupby(\"Country\").mean()\n",
    "data_2016 = data_2016.groupby(\"Country\").mean()\n",
    "data_2014 = data_2014.round(1)\n",
    "data_2015 = data_2015.round(1)\n",
    "data_2016 = data_2016.round(1)"
   ]
  },
  {
   "cell_type": "code",
   "execution_count": null,
   "metadata": {},
   "outputs": [],
   "source": [
    "data_2014.head()"
   ]
  },
  {
   "cell_type": "code",
   "execution_count": null,
   "metadata": {},
   "outputs": [],
   "source": [
    "data_2014.columns.unique()"
   ]
  },
  {
   "cell_type": "code",
   "execution_count": null,
   "metadata": {},
   "outputs": [],
   "source": [
    "data_2014['Country'] = data_2014.index\n",
    "data_2015['Country'] = data_2015.index\n",
    "data_2016['Country'] = data_2016.index"
   ]
  },
  {
   "cell_type": "markdown",
   "metadata": {},
   "source": [
    "### Network visualisation\n",
    "Now the data is prepared for use in Cytoscape. First source and target nodes were determined from the literature. <br>\n",
    "\n",
    "Guinea ==> Sierra Leone;<br>\n",
    "Guinea ==> Liberia;<br>\n",
    "Sierra Leone ==> Liberia;<br>\n",
    "Guinea ==> Nigeria (by travelling to Guinea, quickly contained);<br> \n",
    "Liberia ==> Spain<br>\n",
    "Guinea ==> US<br>\n",
    "Liberia ==> US<br>\n",
    "Guinea ==> Senegal<br>\n",
    "SLE ===> groot brittanie<br>\n",
    "SLE ===> Italy<br>\n",
    "\n",
    "Radius and colour of the node is the CFR <br>\n",
    "Weight of the edge is the number of cases <br>\n",
    "Length of the edge is the distance btw countires <br>"
   ]
  },
  {
   "cell_type": "code",
   "execution_count": null,
   "metadata": {},
   "outputs": [],
   "source": [
    "data_2014.rename(columns={\"Country\": \"Target\"})\n",
    "data_2014['Source']='GNQ' \n",
    "data_2015.rename(columns={\"Country\": \"Target\"})\n",
    "data_2015['Source']='GNQ' \n",
    "data_2016.rename(columns={\"Country\": \"Target\"})\n",
    "data_2016['Source']='GNQ' "
   ]
  },
  {
   "cell_type": "code",
   "execution_count": null,
   "metadata": {},
   "outputs": [],
   "source": [
    "data_2014 = data_2014[['Country', 'Source', 'Number of cases', 'Number of cases log', 'Number of deaths', 'CFR']]\n",
    "data_2015 = data_2015[['Country', 'Source', 'Number of cases','Number of cases log', 'Number of deaths', 'CFR']]\n",
    "data_2016 = data_2016[['Country', 'Source', 'Number of cases', 'Number of cases log','Number of deaths', 'CFR']]"
   ]
  },
  {
   "cell_type": "code",
   "execution_count": null,
   "metadata": {},
   "outputs": [],
   "source": [
    "print(data_2014.Country.unique())\n",
    "print(data_2015.Country.unique())\n",
    "print(data_2016.Country.unique())"
   ]
  },
  {
   "cell_type": "code",
   "execution_count": null,
   "metadata": {},
   "outputs": [],
   "source": [
    "data_2014.loc[(data_2014.Country == 'ESP'), 'Source'] = 'LBR'\n",
    "data_2014.loc[(data_2014.Country == 'USA'), 'Source'] = 'LBR'\n",
    "\n",
    "data_2015.loc[(data_2015.Country == 'ESP'), 'Source'] = 'LBR'\n",
    "data_2015.loc[(data_2015.Country == 'USA'), 'Source'] = 'LBR'\n",
    "data_2015.loc[(data_2015.Country == 'GBR'), 'Source'] = 'SLE'\n",
    "data_2015.loc[(data_2015.Country == 'ITA'), 'Source'] = 'SLE'\n",
    "\n",
    "data_2016.loc[(data_2016.Country == 'ESP'), 'Source'] = 'LBR'\n",
    "data_2016.loc[(data_2016.Country == 'USA'), 'Source'] = 'LBR'\n",
    "data_2016.loc[(data_2016.Country == 'GBR'), 'Source'] = 'SLE'\n",
    "data_2016.loc[(data_2016.Country == 'ITA'), 'Source'] = 'SLE'"
   ]
  },
  {
   "cell_type": "code",
   "execution_count": null,
   "metadata": {},
   "outputs": [],
   "source": [
    "data_2016"
   ]
  },
  {
   "cell_type": "code",
   "execution_count": null,
   "metadata": {},
   "outputs": [],
   "source": [
    "data_2014.to_csv(\"data_2014_cyto.csv\")\n",
    "data_2015.to_csv(\"data_2015_cyto.csv\")\n",
    "data_2016.to_csv(\"data_2016_cyto.csv\")"
   ]
  }
 ],
 "metadata": {
  "kernelspec": {
   "display_name": "Python 3",
   "language": "python",
   "name": "python3"
  },
  "language_info": {
   "codemirror_mode": {
    "name": "ipython",
    "version": 3
   },
   "file_extension": ".py",
   "mimetype": "text/x-python",
   "name": "python",
   "nbconvert_exporter": "python",
   "pygments_lexer": "ipython3",
   "version": "3.7.3"
  }
 },
 "nbformat": 4,
 "nbformat_minor": 2
}
